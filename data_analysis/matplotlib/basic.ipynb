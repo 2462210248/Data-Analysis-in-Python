{
 "cells": [
  {
   "cell_type": "markdown",
   "source": [
    "## matplotlib基本使用\r\n",
    "## 1. 可以只传y的值,这样x默认range(0,len(y))\r\n"
   ],
   "metadata": {}
  },
  {
   "cell_type": "code",
   "execution_count": null,
   "source": [
    "import matplotlib.pyplot as plt\r\n",
    "import numpy as np"
   ],
   "outputs": [],
   "metadata": {}
  },
  {
   "cell_type": "code",
   "execution_count": null,
   "source": [
    "plt.rcParams['font.sans-serif'] = ['KaiTi'] # 指定默认字体\r\n",
    "plt.rcParams['axes.unicode_minus'] = False # 解决保存图像是负号'-'显示为方块的问题"
   ],
   "outputs": [],
   "metadata": {}
  },
  {
   "cell_type": "code",
   "execution_count": null,
   "source": [
    "#最基础形式\r\n",
    "plt.plot([1,2,3,4,5],[1,2,3,4,5])"
   ],
   "outputs": [],
   "metadata": {}
  },
  {
   "cell_type": "code",
   "execution_count": null,
   "source": [
    "#一般形式\r\n",
    "x=range(5,15)\r\n",
    "y=np.random.randint(0,10,10)\r\n",
    "plt.plot(x,y)  "
   ],
   "outputs": [],
   "metadata": {}
  },
  {
   "cell_type": "code",
   "execution_count": null,
   "source": [
    "#简化\r\n",
    "plt.plot(range(5,15),np.random.randint(0,10,10))"
   ],
   "outputs": [],
   "metadata": {}
  },
  {
   "cell_type": "markdown",
   "source": [
    "## 颜色设置 color=''"
   ],
   "metadata": {}
  },
  {
   "cell_type": "code",
   "execution_count": null,
   "source": [
    "#指定颜色(可以用英文缩写/rgb/hex代码)\r\n",
    "plt.plot(range(5,15),np.random.randint(0,10,10),color='r')"
   ],
   "outputs": [],
   "metadata": {}
  },
  {
   "cell_type": "markdown",
   "source": [
    "## 线条样式\r\n",
    "## linewidth(lw) linestyle(ls)样式     alpha透明度"
   ],
   "metadata": {}
  },
  {
   "cell_type": "code",
   "execution_count": null,
   "source": [
    "y=np.random.randint(0,10,10)\r\n",
    "plt.plot(y,color='r',lw=4,ls='--',alpha=0.5) "
   ],
   "outputs": [],
   "metadata": {}
  },
  {
   "cell_type": "markdown",
   "source": [
    "## 标题和轴"
   ],
   "metadata": {}
  },
  {
   "cell_type": "code",
   "execution_count": null,
   "source": [
    "from matplotlib import font_manager"
   ],
   "outputs": [],
   "metadata": {}
  },
  {
   "cell_type": "code",
   "execution_count": null,
   "source": [
    "plt.plot(range(5,15),np.random.randint(0,10,10))\r\n",
    "# font=font_manager.FontProperties(fname='Times New Roman',size=20)\r\n",
    "plt.title('hello world')\r\n",
    "plt.xlabel('x axis')\r\n",
    "plt.ylabel('y axis')"
   ],
   "outputs": [],
   "metadata": {}
  },
  {
   "cell_type": "markdown",
   "source": [
    "## 轴刻度:xticks,可以设置x轴刻度标签"
   ],
   "metadata": {}
  },
  {
   "cell_type": "code",
   "execution_count": null,
   "source": [
    "y=np.random.randint(0,10,10)\r\n",
    "font=font_manager.FontProperties(size=20)\r\n",
    "plt.title('折线图')\r\n",
    "plt.xticks(range(10),[\"第%d天\"%x for x in range(1,11)],fontproperties=font)\r\n",
    "# plt.show()\r\n",
    "plt.plot(y)"
   ],
   "outputs": [],
   "metadata": {}
  },
  {
   "cell_type": "markdown",
   "source": [
    "## 图大小改变 plt.figure()"
   ],
   "metadata": {}
  },
  {
   "cell_type": "code",
   "execution_count": null,
   "source": [
    "y=np.random.randint(0,10,10)\r\n",
    "plt.figure(figsize=(10,5))\r\n",
    "plt.title('折线图')\r\n",
    "font=font_manager.FontProperties(size=20)\r\n",
    "plt.xticks(range(10),[\"第%d天\"%x for x in range(1,11)],fontproperties=font)\r\n",
    "plt.plot(y)"
   ],
   "outputs": [],
   "metadata": {}
  }
 ],
 "metadata": {
  "orig_nbformat": 4,
  "language_info": {
   "name": "python",
   "version": "3.8.11",
   "mimetype": "text/x-python",
   "codemirror_mode": {
    "name": "ipython",
    "version": 3
   },
   "pygments_lexer": "ipython3",
   "nbconvert_exporter": "python",
   "file_extension": ".py"
  },
  "kernelspec": {
   "name": "python3",
   "display_name": "Python 3.8.11 64-bit ('test': conda)"
  },
  "interpreter": {
   "hash": "5e94ea338a158861897a51a691abce388a6c776ad5d3fd0df5e203920b208892"
  }
 },
 "nbformat": 4,
 "nbformat_minor": 2
}
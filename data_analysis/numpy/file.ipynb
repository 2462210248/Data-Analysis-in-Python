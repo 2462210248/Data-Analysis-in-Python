{
 "cells": [
  {
   "cell_type": "markdown",
   "source": [
    "numpy中文件操作\r\n",
    "1.保存文件\r\n",
    "np.savetxt(frame,array,fmt,delimiter,header,comments)\r\n",
    "frame:保存的文件名\r\n",
    "array:用来保存的源数组\r\n",
    "fmt:格式\r\n",
    "delimiter:分隔符,默认为空格\r\n",
    "header:标题\r\n",
    "comments:表头,默认为#,最好设置为空字符串\r\n",
    "\r\n",
    "2.读取文件\r\n",
    "np.loadtext(frame,dtype,delimiter,unpack,skiprows)\r\n",
    "frame:加载的文件名\r\n",
    "dtype:数据类型,默认为float\r\n",
    "delimiter:分隔符,默认为空格\r\n",
    "unpack:默认为False,如果设置为True,则加载后的数据为转置\r\n",
    "skiprows:跳过前几行"
   ],
   "metadata": {}
  },
  {
   "cell_type": "code",
   "execution_count": null,
   "source": [
    "import numpy as np"
   ],
   "outputs": [],
   "metadata": {}
  },
  {
   "cell_type": "code",
   "execution_count": null,
   "source": [
    "scores=np.random.randint(0,100,(20,2))\r\n",
    "np.savetxt(\"scores.csv\",scores,fmt=\"%d\",delimiter=',',header=\"English,Math\",comments='')"
   ],
   "outputs": [],
   "metadata": {}
  },
  {
   "cell_type": "code",
   "execution_count": null,
   "source": [
    "#设置skiprows=1的原因是第一行的标题是string类型,无法转换为int或float类型,所以直接跳过\r\n",
    "np.loadtxt(\"scores.csv\",dtype=int,delimiter=',',skiprows=1)"
   ],
   "outputs": [],
   "metadata": {}
  }
 ],
 "metadata": {
  "orig_nbformat": 4,
  "language_info": {
   "name": "python",
   "version": "3.8.11",
   "mimetype": "text/x-python",
   "codemirror_mode": {
    "name": "ipython",
    "version": 3
   },
   "pygments_lexer": "ipython3",
   "nbconvert_exporter": "python",
   "file_extension": ".py"
  },
  "kernelspec": {
   "name": "python3",
   "display_name": "Python 3.8.11 64-bit ('test': conda)"
  },
  "interpreter": {
   "hash": "5e94ea338a158861897a51a691abce388a6c776ad5d3fd0df5e203920b208892"
  }
 },
 "nbformat": 4,
 "nbformat_minor": 2
}
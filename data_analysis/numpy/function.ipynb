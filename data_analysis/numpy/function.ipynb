{
 "cells": [
  {
   "cell_type": "markdown",
   "source": [
    "常用函数(简单的就跳过了)"
   ],
   "metadata": {}
  },
  {
   "cell_type": "code",
   "execution_count": null,
   "source": [
    "import numpy as np"
   ],
   "outputs": [],
   "metadata": {}
  },
  {
   "cell_type": "code",
   "execution_count": null,
   "source": [
    "a=np.random.randint(0,10,(2,5))\r\n",
    "a"
   ],
   "outputs": [],
   "metadata": {}
  },
  {
   "cell_type": "code",
   "execution_count": null,
   "source": [
    "print(np.prod(a,axis=0)) #求积(product乘积)\r\n",
    "\r\n",
    "print(np.std(a,axis=0))  #标准差(standard deviation)\r\n",
    "\r\n",
    "print(np.var(a,axis=0)) #方差(variance)\r\n",
    "\r\n",
    "print(np.mean(a,axis=0)) #平均值\r\n",
    "\r\n",
    "print(np.mediam(a,axis=1)) #中位数\r\n",
    "\r\n",
    "print(np.argmin(a,axis=0)) #最小值的下标索引"
   ],
   "outputs": [],
   "metadata": {}
  },
  {
   "cell_type": "markdown",
   "source": [
    "布尔函数"
   ],
   "metadata": {}
  },
  {
   "cell_type": "code",
   "execution_count": null,
   "source": [
    "np.all(a>5)  #判断所有值"
   ],
   "outputs": [],
   "metadata": {}
  },
  {
   "cell_type": "code",
   "execution_count": null,
   "source": [
    "np.any(a=5) #判断是否存在值"
   ],
   "outputs": [],
   "metadata": {}
  },
  {
   "cell_type": "markdown",
   "source": [
    "sort1\r\n",
    "1.np.sort:指定轴进行排序,若未指定值,则默认最后一个轴进行排序\r\n"
   ],
   "metadata": {}
  },
  {
   "cell_type": "code",
   "execution_count": null,
   "source": [
    "a=np.random.randint(0,10,(3,5))\r\n",
    "print(a)\r\n",
    "\r\n",
    "b=np.sort(a)  #按照axis=1即行排序\r\n",
    "print(b)\r\n",
    "\r\n",
    "c=np.sort(a,axis=0)  #按axis=0排序\r\n",
    "print(c)"
   ],
   "outputs": [],
   "metadata": {}
  },
  {
   "cell_type": "code",
   "execution_count": null,
   "source": [
    "d=np.argsort(a)  #返回排序后的下标索引\r\n",
    "d"
   ],
   "outputs": [],
   "metadata": {}
  },
  {
   "cell_type": "code",
   "execution_count": null,
   "source": [
    "#降序排序:先转换为负数后再取相反数\r\n",
    "e=-np.sort(-a)\r\n",
    "e"
   ],
   "outputs": [],
   "metadata": {}
  },
  {
   "cell_type": "markdown",
   "source": [
    "特殊函数"
   ],
   "metadata": {}
  },
  {
   "cell_type": "code",
   "execution_count": null,
   "source": [
    "#apply_along_axis:沿着轴实现某些函数的功能\r\n",
    "#数组按行求去最大值最小值的平均值\r\n",
    "np.apply_along_axis(lambda x:x[(x!=x.max()) & (x!=x.min())].mean(),axis=1,arr=a)"
   ],
   "outputs": [],
   "metadata": {}
  },
  {
   "cell_type": "code",
   "execution_count": null,
   "source": [
    "#unique:去重的数组\r\n",
    "#返回两个数组,等价于哈希表的key和value,value为每个key出现的次数\r\n",
    "np.unique(a,return_counts=True) "
   ],
   "outputs": [],
   "metadata": {}
  }
 ],
 "metadata": {
  "orig_nbformat": 4,
  "language_info": {
   "name": "python",
   "version": "3.8.11",
   "mimetype": "text/x-python",
   "codemirror_mode": {
    "name": "ipython",
    "version": 3
   },
   "pygments_lexer": "ipython3",
   "nbconvert_exporter": "python",
   "file_extension": ".py"
  },
  "kernelspec": {
   "name": "python3",
   "display_name": "Python 3.8.11 64-bit ('test': conda)"
  },
  "interpreter": {
   "hash": "5e94ea338a158861897a51a691abce388a6c776ad5d3fd0df5e203920b208892"
  }
 },
 "nbformat": 4,
 "nbformat_minor": 2
}
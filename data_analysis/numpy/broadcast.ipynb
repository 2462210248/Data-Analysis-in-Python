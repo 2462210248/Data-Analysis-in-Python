{
 "cells": [
  {
   "cell_type": "markdown",
   "source": [
    "数组的广播机制:\r\n",
    "对数组的每个元素同时进行一些运算的操作\r\n",
    "(在python中对数组每个元素同时运算需要用到map函数)\r\n",
    "广播原则:如果两个数组的后缘维度相同或者其中一方为1,则认为它们是广播兼容的"
   ],
   "metadata": {}
  },
  {
   "cell_type": "code",
   "execution_count": null,
   "source": [
    "import numpy as np\r\n",
    "a=np.random.randint(0,5,(3,5))\r\n",
    "a"
   ],
   "outputs": [],
   "metadata": {}
  },
  {
   "cell_type": "code",
   "execution_count": null,
   "source": [
    "#每个元素变成两倍\r\n",
    "a=a*2\r\n",
    "a"
   ],
   "outputs": [],
   "metadata": {}
  },
  {
   "cell_type": "markdown",
   "source": [
    "数组间的运算\r\n",
    "数组相加的规则:\r\n",
    "1.形状相同的两个数组:对应位置元素相加\r\n",
    "2.行数相同,其中一个列数为1:\r\n",
    "前一个数组的每一列都加上后一个单列数组\r\n",
    "3.列数相同,其中一个行数为1:\r\n",
    "前一个数组的每一行都加上后一个单行数组"
   ],
   "metadata": {}
  },
  {
   "cell_type": "code",
   "execution_count": null,
   "source": [
    "#数组相加\r\n",
    "a1=np.random.randint(0,5,(3,1))\r\n",
    "a2=np.random.randint(0,5,(3,5))\r\n",
    "a3=np.random.randint(0,5,(1,5))\r\n",
    "print(a1)\r\n",
    "print(a1+a)\r\n",
    "print(a2+a)\r\n",
    "print(a3+a)"
   ],
   "outputs": [],
   "metadata": {}
  }
 ],
 "metadata": {
  "orig_nbformat": 4,
  "language_info": {
   "name": "python",
   "version": "3.8.11",
   "mimetype": "text/x-python",
   "codemirror_mode": {
    "name": "ipython",
    "version": 3
   },
   "pygments_lexer": "ipython3",
   "nbconvert_exporter": "python",
   "file_extension": ".py"
  },
  "kernelspec": {
   "name": "python3",
   "display_name": "Python 3.8.11 64-bit ('test': conda)"
  },
  "interpreter": {
   "hash": "5e94ea338a158861897a51a691abce388a6c776ad5d3fd0df5e203920b208892"
  }
 },
 "nbformat": 4,
 "nbformat_minor": 2
}
{
 "cells": [
  {
   "cell_type": "code",
   "execution_count": null,
   "source": [
    "import numpy as np"
   ],
   "outputs": [],
   "metadata": {}
  },
  {
   "cell_type": "code",
   "execution_count": null,
   "source": [
    "#没指定形状就生成单个随机数,指定形状后就是一个随机数数组\r\n",
    "print(np.random.rand())\r\n",
    "print(np.random.random())\r\n",
    "print(np.random.randint(0,10))\r\n",
    "print(np.random.randn(2,3)) #生成均值为0,标准差为1的正态分布数组"
   ],
   "outputs": [],
   "metadata": {}
  },
  {
   "cell_type": "code",
   "execution_count": null,
   "source": [
    "#choice随机采样\r\n",
    "data=[1,2,3,4,5,6]\r\n",
    "print(np.random.choice(10,3))  #(0,10)采样三个数\r\n",
    "print(np.random.choice(data,(1,2)))  #随机选(1*2)的数组的数\r\n",
    "print(np.random.choice(data,3))"
   ],
   "outputs": [],
   "metadata": {}
  },
  {
   "cell_type": "code",
   "execution_count": null,
   "source": [
    "#shuffle 洗牌\r\n",
    "a=np.arange(10)\r\n",
    "np.random.shuffle(a)\r\n",
    "a"
   ],
   "outputs": [],
   "metadata": {}
  }
 ],
 "metadata": {
  "orig_nbformat": 4,
  "language_info": {
   "name": "python",
   "version": "3.8.11",
   "mimetype": "text/x-python",
   "codemirror_mode": {
    "name": "ipython",
    "version": 3
   },
   "pygments_lexer": "ipython3",
   "nbconvert_exporter": "python",
   "file_extension": ".py"
  },
  "kernelspec": {
   "name": "python3",
   "display_name": "Python 3.8.11 64-bit ('test': conda)"
  },
  "interpreter": {
   "hash": "5e94ea338a158861897a51a691abce388a6c776ad5d3fd0df5e203920b208892"
  }
 },
 "nbformat": 4,
 "nbformat_minor": 2
}
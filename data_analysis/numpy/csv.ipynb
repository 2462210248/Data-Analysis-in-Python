{
 "cells": [
  {
   "cell_type": "markdown",
   "source": [
    "csv文件的读取和修改\r\n",
    "读取方式:\r\n",
    "1.按行读取\r\n",
    "2.以字典读取(注意不会包含标题行)\r\n",
    "\r\n",
    "写入方式:\r\n",
    "1.按行写入\r\n",
    "2.按字典写入(注意格式变化)"
   ],
   "metadata": {}
  },
  {
   "cell_type": "code",
   "execution_count": null,
   "source": [
    "import csv"
   ],
   "outputs": [],
   "metadata": {}
  },
  {
   "cell_type": "code",
   "execution_count": null,
   "source": [
    "with open('scores.csv','r') as fp:  #fp为文件指针\r\n",
    "    reader=csv.reader(fp)   #把文件指针给一个reader的迭代器\r\n",
    "    for x in reader:  #遍历迭代器打印信息\r\n",
    "        En=x[0]\r\n",
    "        Math=x[1]\r\n",
    "        print({'English':En,'Math':x[1]})"
   ],
   "outputs": [],
   "metadata": {}
  },
  {
   "cell_type": "code",
   "execution_count": null,
   "source": [
    "with open('scores.csv','r') as fp:\r\n",
    "    reader=csv.DictReader(fp)\r\n",
    "    for x in reader:\r\n",
    "        print(x)"
   ],
   "outputs": [],
   "metadata": {}
  },
  {
   "cell_type": "code",
   "execution_count": null,
   "source": [
    "headers=['username','age','height']  #定义标题 \r\n",
    "values=[('Alan',19,175),('hyf',20,175)]  #定义信息(把元组放入列表中)\r\n",
    "#encoding改为中文编码,newline默认是\\n,改成不换行\r\n",
    "with open('class.csv','w',encoding='utf-8',newline='') as fp:  \r\n",
    "    writer=csv.writer(fp)\r\n",
    "    writer.writerow(headers)  #加一行标题\r\n",
    "    writer.writerows(values)  #加多行信息"
   ],
   "outputs": [],
   "metadata": {}
  },
  {
   "cell_type": "code",
   "execution_count": null,
   "source": [
    "headers=['username','age','height']  #定义标题\r\n",
    "values=[{'username':'Alan','age':19,'height':175},{'username':'hyf','age':20,'height':175}] #定义信息(用字典)\r\n",
    "with open('class1.csv','w',encoding='utf-8',newline='') as fp:\r\n",
    "    writer=csv.DictWriter(fp,headers) #要多加一个标题参数\r\n",
    "    writer.writeheader()   #注意标题写入与上面格式区别\r\n",
    "    writer.writerows(values)"
   ],
   "outputs": [],
   "metadata": {}
  }
 ],
 "metadata": {
  "orig_nbformat": 4,
  "language_info": {
   "name": "python",
   "version": "3.8.11",
   "mimetype": "text/x-python",
   "codemirror_mode": {
    "name": "ipython",
    "version": 3
   },
   "pygments_lexer": "ipython3",
   "nbconvert_exporter": "python",
   "file_extension": ".py"
  },
  "kernelspec": {
   "name": "python3",
   "display_name": "Python 3.8.11 64-bit ('test': conda)"
  },
  "interpreter": {
   "hash": "5e94ea338a158861897a51a691abce388a6c776ad5d3fd0df5e203920b208892"
  }
 },
 "nbformat": 4,
 "nbformat_minor": 2
}
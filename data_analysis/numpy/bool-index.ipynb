{
 "cells": [
  {
   "cell_type": "markdown",
   "source": [
    "布尔索引(条件索引)"
   ],
   "metadata": {}
  },
  {
   "cell_type": "code",
   "execution_count": null,
   "source": [
    "import numpy as np"
   ],
   "outputs": [],
   "metadata": {}
  },
  {
   "cell_type": "code",
   "execution_count": null,
   "source": [
    "import numpy as np\r\n",
    "a=np.arange(24).reshape(4,6)\r\n",
    "print(a)"
   ],
   "outputs": [],
   "metadata": {}
  },
  {
   "cell_type": "code",
   "execution_count": null,
   "source": [
    "print(a<10)   #打印一个布尔数组\r\n",
    "\r\n",
    "print(a[a<10]) #把数组中满足条件的值打印\r\n",
    "\r\n",
    "print(a[(a<5) | (a>10)])"
   ],
   "outputs": [],
   "metadata": {}
  },
  {
   "cell_type": "markdown",
   "source": [
    "值的替换方法:\r\n",
    "1.普通索引切片\r\n",
    "2.条件索引\r\n",
    "3.where函数"
   ],
   "metadata": {}
  },
  {
   "cell_type": "code",
   "execution_count": null,
   "source": [
    "a1=np.random.randint(0,10,(3,5))\r\n",
    "print(a1)\r\n",
    "print('\\n')\r\n",
    "\r\n",
    "#普通索引替换\r\n",
    "a1[1]=np.array([1,2,3,4,5])\r\n",
    "print(a1)  #第一行改成1,2,3,4,5\r\n",
    "print('\\n')\r\n",
    "\r\n",
    "a1[[0,2],[0,2]]=0  #(0,0),(2,2)两个数为0\r\n",
    "print(a1)"
   ],
   "outputs": [],
   "metadata": {}
  },
  {
   "cell_type": "code",
   "execution_count": null,
   "source": [
    "#布尔索引替换\r\n",
    "a2=np.random.randint(0,10,(3,5))\r\n",
    "print(a2)\r\n",
    "print('\\n')\r\n",
    "\r\n",
    "a2[a2<3]=0\r\n",
    "print(a2[a2<5])"
   ],
   "outputs": [],
   "metadata": {}
  },
  {
   "cell_type": "markdown",
   "source": [
    "where函数\r\n",
    "用法:np.where(condition,x,y),解释:满足condition的元素设置为x,否则设置为y"
   ],
   "metadata": {}
  },
  {
   "cell_type": "code",
   "execution_count": null,
   "source": [
    "#where函数:\r\n",
    "a2=np.random.randint(0,10,(3,5))\r\n",
    "print(a2)\r\n",
    "print('\\n')\r\n",
    "\r\n",
    "a3=np.where(a2<5,0,1)\r\n",
    "print(a3)"
   ],
   "outputs": [],
   "metadata": {}
  }
 ],
 "metadata": {
  "orig_nbformat": 4,
  "language_info": {
   "name": "python",
   "version": "3.8.11",
   "mimetype": "text/x-python",
   "codemirror_mode": {
    "name": "ipython",
    "version": 3
   },
   "pygments_lexer": "ipython3",
   "nbconvert_exporter": "python",
   "file_extension": ".py"
  },
  "kernelspec": {
   "name": "python3",
   "display_name": "Python 3.8.11 64-bit ('test': conda)"
  },
  "interpreter": {
   "hash": "5e94ea338a158861897a51a691abce388a6c776ad5d3fd0df5e203920b208892"
  }
 },
 "nbformat": 4,
 "nbformat_minor": 2
}
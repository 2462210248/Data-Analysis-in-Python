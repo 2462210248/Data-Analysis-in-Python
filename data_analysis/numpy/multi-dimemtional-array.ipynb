{
 "cells": [
  {
   "cell_type": "markdown",
   "source": [
    "多维数组的创建\r\n",
    "1.ndim 数组维度  shape 数组形状 size元素个数\r\n",
    "2.reshape变更形状:注意:元素总数量不变"
   ],
   "metadata": {}
  },
  {
   "cell_type": "code",
   "execution_count": null,
   "source": [
    "import numpy as np"
   ],
   "outputs": [],
   "metadata": {}
  },
  {
   "cell_type": "code",
   "execution_count": null,
   "source": [
    "import numpy as np\r\n",
    "a1=np.array([1,2,3])\r\n",
    "a2=np.array([[1,1],[2,2],[3,3]])\r\n",
    "print(a1.ndim)   \r\n",
    "print(a2.ndim)\r\n",
    "\r\n",
    "print(a1.shape)\r\n",
    "print(a2.shape)\r\n",
    "\r\n",
    "print(a1.size) #size元素个数"
   ],
   "outputs": [],
   "metadata": {}
  },
  {
   "cell_type": "code",
   "execution_count": null,
   "source": [
    "a3=a1.reshape((3,1)) \r\n",
    "print(a3)\r\n",
    "\r\n",
    "a4=a3.reshape((3,)) #变成一维数组用((x,))\r\n",
    "print(a4)\r\n",
    "\r\n",
    "a5=a2.flatten() #或者直接用flatten()函数\r\n",
    "print(a5)\r\n",
    "\r\n",
    "#arange创建的时候直接改变形状\r\n",
    "a=np.arange(0,24).reshape(4,6)\r\n",
    "print(a)"
   ],
   "outputs": [],
   "metadata": {}
  },
  {
   "cell_type": "code",
   "execution_count": null,
   "source": [
    "#多维数组索引和切片(很重要也很难)\r\n",
    "a6=np.random.randint(0,10,(5,5))\r\n",
    "print(a6)\r\n",
    "print('\\n')\r\n",
    "\r\n",
    "print(a6[0,1])  #第0行第一列的单个元素\r\n",
    "\r\n",
    "print(a6[0]) #第0行\r\n",
    "\r\n",
    "print(a6[1:3])  #第1行到第2行的数组\r\n"
   ],
   "outputs": [],
   "metadata": {}
  },
  {
   "cell_type": "code",
   "execution_count": null,
   "source": [
    "print(a6)\r\n",
    "print('\\n')\r\n",
    "\r\n",
    "#列的操作: a[:, ],注意,列的打印是按照行打印出的二维数组(这点有点奇怪的)\r\n",
    "print(a6[:,1]) #第一列的数据(这个格式属实离谱了,[:,列号])\r\n",
    "\r\n",
    "print(a6[:,1:2]) #第一列到第二列\r\n",
    "\r\n",
    "print(a6[:,[1,3]]) #第一列和第三列"
   ],
   "outputs": [],
   "metadata": {}
  },
  {
   "cell_type": "code",
   "execution_count": null,
   "source": [
    "#多个括号(或是切片)嵌套的,前面是行,后面是列\r\n",
    "print(a6)\r\n",
    "print('\\n')\r\n",
    "\r\n",
    "print(a6[[0,2]]) #第0行和第2行(注意是嵌套的两个括号,没有嵌套相当于是0行2列的元素)\r\n",
    "\r\n",
    "print(a6[[2,3,4],[1,2,3]])  #第2,3,4行的第1,2,3个元素\r\n",
    "\r\n",
    "print(a6[1:3,0:2])  #第一行到第二行,第0列到第2列的四个数据"
   ],
   "outputs": [],
   "metadata": {}
  }
 ],
 "metadata": {
  "orig_nbformat": 4,
  "language_info": {
   "name": "python",
   "version": "3.8.11",
   "mimetype": "text/x-python",
   "codemirror_mode": {
    "name": "ipython",
    "version": 3
   },
   "pygments_lexer": "ipython3",
   "nbconvert_exporter": "python",
   "file_extension": ".py"
  },
  "kernelspec": {
   "name": "python3",
   "display_name": "Python 3.8.11 64-bit ('test': conda)"
  },
  "interpreter": {
   "hash": "5e94ea338a158861897a51a691abce388a6c776ad5d3fd0df5e203920b208892"
  }
 },
 "nbformat": 4,
 "nbformat_minor": 2
}
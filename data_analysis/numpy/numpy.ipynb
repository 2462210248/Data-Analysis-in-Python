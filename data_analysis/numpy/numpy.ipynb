{
 "cells": [
  {
   "cell_type": "markdown",
   "source": [
    "Numpy数组:\r\n",
    "创建数组方法:\r\n",
    "1.np.array通过现有数组创建\r\n",
    "2.np.arange(a,b,step):类似于range创建指定范围步长的数组\r\n",
    "3.np.random()创建随机数数组\r\n",
    "4.使用函数生成特殊的数组\r\n",
    "\r\n",
    "注意点:\r\n",
    "1.numpy数组中数据类型必须相同\r\n",
    "2.numpy数组叫ndarray,而非列表list"
   ],
   "metadata": {}
  },
  {
   "cell_type": "code",
   "execution_count": null,
   "source": [
    "#普通一维二维数组创建\r\n",
    "num1=[0 for _ in range(0,5)]\r\n",
    "print(num1)\r\n",
    "\r\n",
    "num2=[[0 for _ in range(0,5)]for j in range(0,5)]\r\n",
    "num2"
   ],
   "outputs": [],
   "metadata": {}
  },
  {
   "cell_type": "code",
   "execution_count": null,
   "source": [
    "import numpy as np"
   ],
   "outputs": [],
   "metadata": {}
  },
  {
   "cell_type": "markdown",
   "source": [
    "以现有数据创建数组"
   ],
   "metadata": {}
  },
  {
   "cell_type": "code",
   "execution_count": null,
   "source": [
    "data = [[1,2,3],[4,5,6],[7,8,9]] \r\n",
    "arr4 = np.array(data) \r\n",
    "print(arr4)\r\n"
   ],
   "outputs": [],
   "metadata": {}
  },
  {
   "cell_type": "markdown",
   "source": [
    "arange:限定范围创建数组"
   ],
   "metadata": {}
  },
  {
   "cell_type": "code",
   "execution_count": null,
   "source": [
    "arr1=np.arange(1,5)\r\n",
    "print(arr1)\r\n",
    "\r\n",
    "arr2=np.arange(0,9,2,dtype=float)\r\n",
    "print(arr2)\r\n",
    "\r\n",
    "arr3=np.arange(10)\r\n",
    "print(arr3)"
   ],
   "outputs": [],
   "metadata": {}
  },
  {
   "cell_type": "markdown",
   "source": [
    "np.random()创建随机数数组"
   ],
   "metadata": {}
  },
  {
   "cell_type": "code",
   "execution_count": null,
   "source": [
    "x=np.random.random() #生成(0,1)的随机数\r\n",
    "print(x)\r\n",
    "\r\n",
    "arr9=np.random.random((2,2)) #生成2*2的(0,1)之间的随机数数组\r\n",
    "print(arr9)\r\n",
    "\r\n",
    "arr10=np.random.randint(0,10,(2,2)) #生成2*2的再(0,10)之间的随机数数组\r\n",
    "arr10"
   ],
   "outputs": [],
   "metadata": {}
  },
  {
   "cell_type": "code",
   "execution_count": null,
   "source": [
    "arr1=np.empty((4,3)) #一个4*3的未初始化空数组\r\n",
    "print(arr1)  #打印出随机元素\r\n",
    "\r\n",
    "arr2=np.zeros(3)  #一个大小为3的一维数组\r\n",
    "print(arr2)\r\n",
    "\r\n",
    "arr3=np.ones((2,3)) # 2*3的全1数组\r\n",
    "print(arr3)\r\n",
    "\r\n",
    "arr4=np.full((2,3),8)  #2*3的全8数组\r\n",
    "print(arr4)\r\n",
    "\r\n",
    "matrix=np.eye(3)  #3*3的矩阵,其中主对角线全1,其余为0\r\n",
    "print(matrix)"
   ],
   "outputs": [],
   "metadata": {}
  },
  {
   "cell_type": "markdown",
   "source": [
    "linsapce方法创建等差数列"
   ],
   "metadata": {}
  },
  {
   "cell_type": "code",
   "execution_count": null,
   "source": [
    "arr8 = np.linspace(1,10,10) # 创建 1~10 且包含10，等分成10个元素的一维数组\r\n",
    "print(arr8)"
   ],
   "outputs": [],
   "metadata": {}
  },
  {
   "cell_type": "code",
   "execution_count": null,
   "source": [
    "arr1=np.empty((4,3),dtype=int)\r\n",
    "print(arr1.ndim)  #维度\r\n",
    "print(arr1.shape) #大小\r\n",
    "print(arr1.size)  #元素个数"
   ],
   "outputs": [],
   "metadata": {}
  }
 ],
 "metadata": {
  "orig_nbformat": 4,
  "language_info": {
   "name": "python",
   "version": "3.8.11",
   "mimetype": "text/x-python",
   "codemirror_mode": {
    "name": "ipython",
    "version": 3
   },
   "pygments_lexer": "ipython3",
   "nbconvert_exporter": "python",
   "file_extension": ".py"
  },
  "kernelspec": {
   "name": "python3",
   "display_name": "Python 3.8.11 64-bit ('test': conda)"
  },
  "interpreter": {
   "hash": "5e94ea338a158861897a51a691abce388a6c776ad5d3fd0df5e203920b208892"
  }
 },
 "nbformat": 4,
 "nbformat_minor": 2
}
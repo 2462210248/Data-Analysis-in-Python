{
 "cells": [
  {
   "cell_type": "markdown",
   "source": [
    "数组的形状操作\r\n",
    "reshape,resize (中间是否加小括号均可)"
   ],
   "metadata": {}
  },
  {
   "cell_type": "code",
   "execution_count": null,
   "source": [
    "import numpy as np\r\n",
    "a=np.random.randint(0,10,(3,4))\r\n",
    "print(a)\r\n",
    "\r\n",
    "a.reshape(2,6) #数组形状不会改变\r\n",
    "print(a)\r\n",
    "\r\n",
    "a1=a.reshape(2,6) #a1形状是改变后的,但原数组仍未改变\r\n",
    "print(a1) \r\n",
    "\r\n",
    "a.resize(2,6)  #原数组形状改变\r\n",
    "print(a)"
   ],
   "outputs": [],
   "metadata": {}
  },
  {
   "cell_type": "code",
   "execution_count": null,
   "source": [
    "#flatten返回的是原数组拷贝后扁平化的结果,不会对原数组造成影响\r\n",
    "a2=a.flatten()\r\n",
    "a2[0]=100\r\n",
    "print(a2)\r\n",
    "print(a) #原数组不变"
   ],
   "outputs": [],
   "metadata": {}
  },
  {
   "cell_type": "code",
   "execution_count": null,
   "source": [
    "#ravel是原数组的一个引用,修改ravel会修改原数组(联系python的可变与不可变数据类型)\r\n",
    "a3=a.ravel()\r\n",
    "a3[0]=100\r\n",
    "print(a3)\r\n",
    "print(a)  #原数组改变"
   ],
   "outputs": [],
   "metadata": {}
  },
  {
   "cell_type": "markdown",
   "source": [
    "数组的叠加(拼接)\r\n",
    "1.垂直(纵向)叠加:vstack(vertical stack)\r\n",
    "2.水平(横向)叠加:hstack(horizontal stack)\r\n",
    "3.concatenate:通过axis判断是垂直还是水平的(注意:concatenate函数叠加的数组必须是相同维度的)"
   ],
   "metadata": {}
  },
  {
   "cell_type": "code",
   "execution_count": null,
   "source": [
    "v1=np.arange(8).reshape(2,4)\r\n",
    "print(v1)\r\n",
    "\r\n",
    "v2=np.arange(4)\r\n",
    "print(v2)\r\n",
    "\r\n",
    "v3=np.arange(4).reshape(2,2)\r\n",
    "print(v3)\r\n",
    "\r\n",
    "v=np.vstack([v1,v2])\r\n",
    "print(v)\r\n",
    "\r\n",
    "v4=np.hstack([v1,v3])\r\n",
    "print(v4)"
   ],
   "outputs": [],
   "metadata": {}
  },
  {
   "cell_type": "code",
   "execution_count": null,
   "source": [
    "v6=np.random.randint(0,10,(3,4))\r\n",
    "v5=np.concatenate([v1,v6],axis=0) #垂直\r\n",
    "print(v5)\r\n",
    "\r\n",
    "v7=np.concatenate([v2,v3],None) #None把两个数组扁平化成一维数组\r\n",
    "v7"
   ],
   "outputs": [],
   "metadata": {}
  },
  {
   "cell_type": "markdown",
   "source": [
    "数组的切割\r\n",
    "注意:二维数组切开仍然是二维数组\r\n",
    "1.vsplit:切水平线在垂直方向上分割\r\n",
    "2.hsplit:切垂直线在水平方向上分割\r\n",
    "3.split:直接切割,通过轴指定方向"
   ],
   "metadata": {}
  },
  {
   "cell_type": "code",
   "execution_count": null,
   "source": [
    "b=np.random.randint(0,10,(3,4))\r\n",
    "print(b)\r\n",
    "print('\\n')\r\n",
    "\r\n",
    "b1=np.hsplit(b,2) #把b在水平上分成两个相同大小的数组\r\n",
    "print(b1)\r\n",
    "\r\n",
    "b2=np.hsplit(b,(1,2))  #把b从第一列前,第二列前切两次,分成三个二维数组\r\n",
    "print(b2)"
   ],
   "outputs": [],
   "metadata": {}
  },
  {
   "cell_type": "code",
   "execution_count": null,
   "source": [
    "#vsplit同理\r\n",
    "b3=np.vsplit(b,3) \r\n",
    "print(b3)\r\n",
    "\r\n",
    "b4=np.vsplit(b,(1,2))\r\n",
    "print(b4)"
   ],
   "outputs": [],
   "metadata": {}
  },
  {
   "cell_type": "code",
   "execution_count": null,
   "source": [
    "#np.split函数(对象,切割位置,轴)\r\n",
    "b5=np.split(b,(1,2),0)  #垂直切割\r\n",
    "print(b5)\r\n",
    "\r\n",
    "b6=np.split(b,(1,2),1) #水平切割\r\n",
    "print(b6)"
   ],
   "outputs": [],
   "metadata": {}
  },
  {
   "cell_type": "markdown",
   "source": [
    "数组的转置:\r\n",
    "1. .T方法\r\n",
    "2. transpose()方法\r\n",
    "\r\n",
    "注意:\r\n",
    "1. 上述两种方法均不需要加np.\r\n",
    "2. 区别在于T会改变原数组(一个引用),而transpose不会改变(一个拷贝)"
   ],
   "metadata": {}
  },
  {
   "cell_type": "code",
   "execution_count": null,
   "source": [
    "t=np.random.randint(0,10,(3,4))\r\n",
    "print(t)\r\n",
    "\r\n",
    "print(t.T)\r\n",
    "\r\n",
    "#应用:线性代数中求矩阵相乘\r\n",
    "t1=t.dot(t.T)\r\n",
    "print(t1)"
   ],
   "outputs": [],
   "metadata": {}
  },
  {
   "cell_type": "code",
   "execution_count": null,
   "source": [
    "t.transpose()\r\n",
    "print(t) #不改变原数组\r\n",
    "\r\n",
    "t2=t.transpose()\r\n",
    "t2"
   ],
   "outputs": [],
   "metadata": {}
  }
 ],
 "metadata": {
  "orig_nbformat": 4,
  "language_info": {
   "name": "python",
   "version": "3.8.11",
   "mimetype": "text/x-python",
   "codemirror_mode": {
    "name": "ipython",
    "version": 3
   },
   "pygments_lexer": "ipython3",
   "nbconvert_exporter": "python",
   "file_extension": ".py"
  },
  "kernelspec": {
   "name": "python3",
   "display_name": "Python 3.8.11 64-bit ('test': conda)"
  },
  "interpreter": {
   "hash": "5e94ea338a158861897a51a691abce388a6c776ad5d3fd0df5e203920b208892"
  }
 },
 "nbformat": 4,
 "nbformat_minor": 2
}
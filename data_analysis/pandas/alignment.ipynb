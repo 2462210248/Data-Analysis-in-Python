{
 "cells": [
  {
   "cell_type": "markdown",
   "source": [
    "# 算术运算"
   ],
   "metadata": {}
  },
  {
   "cell_type": "code",
   "execution_count": null,
   "source": [
    "import numpy as np\r\n",
    "import pandas as pd"
   ],
   "outputs": [],
   "metadata": {}
  },
  {
   "cell_type": "code",
   "execution_count": null,
   "source": [
    "s1=pd.Series(np.arange(4),index=['a','b','c','d'])\r\n",
    "s2=pd.Series(np.arange(5),index=['a','b','d','e','f'])\r\n",
    "\r\n",
    "#相加操作:同索引的位置相加,不同索引的设置为NAN(缺失值)\r\n",
    "s1+s2  "
   ],
   "outputs": [],
   "metadata": {}
  },
  {
   "cell_type": "code",
   "execution_count": null,
   "source": [
    "#DataFrame\r\n",
    "pd1=pd.DataFrame(np.arange(12).reshape(3,4),index=['a','b','c'],columns=['A','B','C','D'])\r\n",
    "pd2=pd.DataFrame(np.arange(9).reshape(3,3),index=['b','d','c'],columns=['A','C','E'])\r\n",
    "\r\n",
    "pd1+pd2"
   ],
   "outputs": [],
   "metadata": {}
  },
  {
   "cell_type": "code",
   "execution_count": null,
   "source": [
    "#反转除法\r\n",
    "pd1.rdiv(1)   #1/pd1"
   ],
   "outputs": [],
   "metadata": {}
  },
  {
   "cell_type": "markdown",
   "source": [
    "## 填充值\r\n",
    "## 为了防止出现缺失值的情况,对相加结果中的缺失值预先填充数据0"
   ],
   "metadata": {}
  },
  {
   "cell_type": "code",
   "execution_count": null,
   "source": [
    "s1.add(s2,fill_value=0)"
   ],
   "outputs": [],
   "metadata": {}
  },
  {
   "cell_type": "code",
   "execution_count": null,
   "source": [
    "pd1.add(pd2,fill_value=0)"
   ],
   "outputs": [],
   "metadata": {}
  },
  {
   "cell_type": "code",
   "execution_count": null,
   "source": [
    "#重新指定参数,且填充缺失值\r\n",
    "pd2.reindex(columns=pd1.columns,fill_value=0)"
   ],
   "outputs": [],
   "metadata": {}
  },
  {
   "cell_type": "markdown",
   "source": [
    "## DataFrame 和Series混合运算\r\n",
    "## 类比numpy中的广播机制"
   ],
   "metadata": {}
  },
  {
   "cell_type": "code",
   "execution_count": null,
   "source": [
    "s3=pd1.iloc[0]  #DF 的行也是Series\r\n",
    "pd1-s3    #每一行都减去了第一行"
   ],
   "outputs": [],
   "metadata": {}
  },
  {
   "cell_type": "code",
   "execution_count": null,
   "source": [
    "#按列广播\r\n",
    "s4=pd1['A']\r\n",
    "pd1.sub(s4,axis=0)"
   ],
   "outputs": [],
   "metadata": {}
  }
 ],
 "metadata": {
  "orig_nbformat": 4,
  "language_info": {
   "name": "python",
   "version": "3.8.11",
   "mimetype": "text/x-python",
   "codemirror_mode": {
    "name": "ipython",
    "version": 3
   },
   "pygments_lexer": "ipython3",
   "nbconvert_exporter": "python",
   "file_extension": ".py"
  },
  "kernelspec": {
   "name": "python3",
   "display_name": "Python 3.8.11 64-bit ('test': conda)"
  },
  "interpreter": {
   "hash": "5e94ea338a158861897a51a691abce388a6c776ad5d3fd0df5e203920b208892"
  }
 },
 "nbformat": 4,
 "nbformat_minor": 2
}
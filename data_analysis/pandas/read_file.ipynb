{
 "cells": [
  {
   "cell_type": "markdown",
   "source": [
    "# 数据加载,存储与文件格式"
   ],
   "metadata": {}
  },
  {
   "cell_type": "markdown",
   "source": [],
   "metadata": {}
  },
  {
   "cell_type": "code",
   "execution_count": null,
   "source": [
    "import pandas as pd\r\n",
    "import numpy as np"
   ],
   "outputs": [],
   "metadata": {}
  },
  {
   "cell_type": "code",
   "execution_count": null,
   "source": [
    "df=pd.read_csv('1.csv',header=None)\r\n",
    "df"
   ],
   "outputs": [],
   "metadata": {}
  },
  {
   "cell_type": "code",
   "execution_count": null,
   "source": [
    "#选择第2行作为列索引,并忽略第一行\r\n",
    "df=pd.read_csv('1.csv',header=1)\r\n",
    "df"
   ],
   "outputs": [],
   "metadata": {}
  },
  {
   "cell_type": "markdown",
   "source": [
    "## index_col:重新设置一列(或多列)成为行索引,且变换为层级索引\r\n",
    "## names类似于header,可以重新设置列名"
   ],
   "metadata": {}
  },
  {
   "cell_type": "code",
   "execution_count": null,
   "source": [
    "df=pd.read_csv('1.csv',names=['a','b','c','d'],index_col=['d'])\r\n",
    "df"
   ],
   "outputs": [],
   "metadata": {}
  },
  {
   "cell_type": "code",
   "execution_count": null,
   "source": [
    "df=pd.read_csv('1.csv',names=['a','b','c','d'],index_col=['b','d'])\r\n",
    "df"
   ],
   "outputs": [],
   "metadata": {}
  },
  {
   "cell_type": "markdown",
   "source": [
    "## 按照表格方式读取文件"
   ],
   "metadata": {}
  },
  {
   "cell_type": "code",
   "execution_count": null,
   "source": [
    "df=pd.read_table('1.csv',delimiter=',')  #默认分隔符为逗号,用delimiter=','取消逗号设置\r\n",
    "df"
   ],
   "outputs": [],
   "metadata": {}
  },
  {
   "cell_type": "code",
   "execution_count": null,
   "source": [
    "#skiprows跳过前几行\r\n",
    "df=pd.read_csv('1.csv',names=['a','b','c','d'],skiprows=1)\r\n",
    "df"
   ],
   "outputs": [],
   "metadata": {}
  },
  {
   "cell_type": "code",
   "execution_count": null,
   "source": [
    "#skifooter跳过前=后几行(指定编译器为python防止报错)\r\n",
    "df=pd.read_csv('1.csv',names=['a','b','c','d'],skipfooter=1,engine='python')\r\n",
    "df"
   ],
   "outputs": [],
   "metadata": {}
  },
  {
   "cell_type": "markdown",
   "source": [
    "# 写文件:to_csv()"
   ],
   "metadata": {}
  },
  {
   "cell_type": "code",
   "execution_count": null,
   "source": [
    "df1=pd.DataFrame(np.arange(12).reshape(3,4),index=list('abc'),columns=list('ABCD'))\r\n",
    "df1.to_csv('2.csv')"
   ],
   "outputs": [],
   "metadata": {}
  },
  {
   "cell_type": "code",
   "execution_count": null,
   "source": [
    "agg1=pd.read_csv('iris_with_error.csv',chunksize=10)\r\n",
    "agg1.get_chunk(10)"
   ],
   "outputs": [],
   "metadata": {}
  },
  {
   "cell_type": "code",
   "execution_count": null,
   "source": [
    "agg1=pd.read_csv('iris_with_error.csv',iterator=True)\r\n",
    "agg1.get_chunk(10)"
   ],
   "outputs": [],
   "metadata": {}
  }
 ],
 "metadata": {
  "orig_nbformat": 4,
  "language_info": {
   "name": "python",
   "version": "3.8.11",
   "mimetype": "text/x-python",
   "codemirror_mode": {
    "name": "ipython",
    "version": 3
   },
   "pygments_lexer": "ipython3",
   "nbconvert_exporter": "python",
   "file_extension": ".py"
  },
  "kernelspec": {
   "name": "python3",
   "display_name": "Python 3.8.11 64-bit ('test': conda)"
  },
  "interpreter": {
   "hash": "5e94ea338a158861897a51a691abce388a6c776ad5d3fd0df5e203920b208892"
  }
 },
 "nbformat": 4,
 "nbformat_minor": 2
}
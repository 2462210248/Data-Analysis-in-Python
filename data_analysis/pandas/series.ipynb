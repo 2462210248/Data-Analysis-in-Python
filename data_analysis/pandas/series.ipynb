{
 "cells": [
  {
   "cell_type": "markdown",
   "source": [
    "## Series:由数据和索引组成,能存放任意的数据类型\r\n",
    "## Series与ndarray数组最大的区别就是它自带索引"
   ],
   "metadata": {}
  },
  {
   "cell_type": "code",
   "execution_count": null,
   "source": [
    "import pandas as pd\r\n",
    "import numpy as np"
   ],
   "outputs": [],
   "metadata": {}
  },
  {
   "cell_type": "markdown",
   "source": [
    "## Series创建方法:1.list  2.np  3.dictionary\r\n",
    "## 注意:1,2方法创建时索引数量和数据数量必须相同,而3方法索引可以大于数据数量,则输出的就是Nan(缺失值)"
   ],
   "metadata": {}
  },
  {
   "cell_type": "code",
   "execution_count": null,
   "source": [
    "#通过list创建(类似numpy中的np.array)\r\n",
    "s=pd.Series([1,2,3,4,5])\r\n",
    "s"
   ],
   "outputs": [],
   "metadata": {}
  },
  {
   "cell_type": "code",
   "execution_count": null,
   "source": [
    "#通过数组(ndarray)创建\r\n",
    "a=np.arange(1,6)\r\n",
    "s1=pd.Series(a,index=['a','b','c','d','e']) #可用index修改默认索引\r\n",
    "print(s1)\r\n",
    "print(s1.index)\r\n",
    "print(s1.values)"
   ],
   "outputs": [],
   "metadata": {}
  },
  {
   "cell_type": "code",
   "execution_count": null,
   "source": [
    "#通过字典创建\r\n",
    "dict={'name':'Alan','age':19}\r\n",
    "s2=pd.Series(dict,index=['name','age','sex']) \r\n",
    "#字典中没有sex索引,因此sex是缺失值\r\n",
    "s2"
   ],
   "outputs": [],
   "metadata": {}
  },
  {
   "cell_type": "markdown",
   "source": [
    "## Series一些用法"
   ],
   "metadata": {}
  },
  {
   "cell_type": "code",
   "execution_count": null,
   "source": [
    "#isnull/notnull检查缺失值\r\n",
    "print(s2.isnull())\r\n",
    "s2.notnull()"
   ],
   "outputs": [],
   "metadata": {}
  },
  {
   "cell_type": "code",
   "execution_count": null,
   "source": [
    "#获取数据\r\n",
    "print(s2[0])   #单个数据打印的是value,没有index\r\n",
    "\r\n",
    "#多个数据打印的是index+value,注意多个数据选取是嵌套的括号,类比numpy中多行的选取\r\n",
    "print(s2[[0,1]]) \r\n",
    "\r\n",
    "#下标切片(不需要嵌套)\r\n",
    "print(s2[0:2])  #不包含右端点\r\n",
    "print(s2['name':'sex']) #index切片(包含右端点)\r\n",
    "\r\n",
    "#布尔索引\r\n",
    "print(s1[s1<3])"
   ],
   "outputs": [],
   "metadata": {}
  },
  {
   "cell_type": "markdown",
   "source": [
    "## 索引与数据的对应关系不受运算影响"
   ],
   "metadata": {}
  },
  {
   "cell_type": "code",
   "execution_count": null,
   "source": [
    "print(s1*2)"
   ],
   "outputs": [],
   "metadata": {}
  },
  {
   "cell_type": "code",
   "execution_count": null,
   "source": [
    "#对象名\r\n",
    "s1.name='hello'\r\n",
    "s1.index.name='world'\r\n",
    "s1"
   ],
   "outputs": [],
   "metadata": {}
  },
  {
   "cell_type": "code",
   "execution_count": null,
   "source": [
    "print(s1.head()) #默认打印前五行数据\r\n",
    "print(s1.head(3)) #默认前三行\r\n",
    "print(s1.tail()) #默认后五行"
   ],
   "outputs": [],
   "metadata": {}
  }
 ],
 "metadata": {
  "orig_nbformat": 4,
  "language_info": {
   "name": "python",
   "version": "3.8.11",
   "mimetype": "text/x-python",
   "codemirror_mode": {
    "name": "ipython",
    "version": 3
   },
   "pygments_lexer": "ipython3",
   "nbconvert_exporter": "python",
   "file_extension": ".py"
  },
  "kernelspec": {
   "name": "python3",
   "display_name": "Python 3.8.11 64-bit ('test': conda)"
  },
  "interpreter": {
   "hash": "5e94ea338a158861897a51a691abce388a6c776ad5d3fd0df5e203920b208892"
  }
 },
 "nbformat": 4,
 "nbformat_minor": 2
}
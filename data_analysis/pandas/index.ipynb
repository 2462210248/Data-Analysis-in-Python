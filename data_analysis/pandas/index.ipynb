{
 "cells": [
  {
   "cell_type": "markdown",
   "source": [
    "## 索引操作: 1.重新索引 2.增 3.删 4.改 5.查"
   ],
   "metadata": {}
  },
  {
   "cell_type": "code",
   "execution_count": null,
   "source": [
    "import numpy as np\r\n",
    "import pandas as pd"
   ],
   "outputs": [],
   "metadata": {}
  },
  {
   "cell_type": "code",
   "execution_count": null,
   "source": [
    "ps1=pd.Series(np.arange(5),index=[1,2,3,4,5])\r\n",
    "pd1=pd.DataFrame(np.arange(12).reshape(3,4),index=['a','b','c'])\r\n",
    "print(ps1)\r\n",
    "print(pd1)"
   ],
   "outputs": [],
   "metadata": {}
  },
  {
   "cell_type": "markdown",
   "source": [
    "## 重新索引"
   ],
   "metadata": {}
  },
  {
   "cell_type": "code",
   "execution_count": null,
   "source": [
    "#reindex重新指定索引\r\n",
    "ps2=ps1.reindex(['a','b','c','d','e']) #与原索引无对应关系,故输出值均为NAN,应把原索引也进行修改\r\n",
    "ps2"
   ],
   "outputs": [],
   "metadata": {}
  },
  {
   "cell_type": "code",
   "execution_count": null,
   "source": [
    "#dataframe 行索引重建\r\n",
    "pd2=pd1.reindex(['a','b','c','d'])\r\n",
    "pd2"
   ],
   "outputs": [],
   "metadata": {}
  },
  {
   "cell_type": "code",
   "execution_count": null,
   "source": [
    "pd3=pd1.reindex(columns=[1,2,3])\r\n",
    "pd3"
   ],
   "outputs": [],
   "metadata": {}
  },
  {
   "cell_type": "markdown",
   "source": [
    "# 增"
   ],
   "metadata": {}
  },
  {
   "cell_type": "code",
   "execution_count": null,
   "source": [
    "ps1['x']=9\r\n",
    "print(ps1)\r\n",
    "\r\n",
    "#增加列\r\n",
    "pd1['y']=np.arange(9,12)\r\n",
    "print(pd1)\r\n",
    "\r\n",
    "\r\n",
    "#增加行(用loc标签)\r\n",
    "pd1.loc['d']=[1,1,1,1,1]\r\n",
    "print(pd1)"
   ],
   "outputs": [],
   "metadata": {}
  },
  {
   "cell_type": "markdown",
   "source": [
    "# 删\r\n",
    "## 1.del方法:\r\n",
    "对Series:直接删除\r\n",
    "对DataFrame:删除列\r\n",
    "\r\n",
    "## 2.drop方法:默认拷贝删除,不影响原数组\r\n",
    "如果要原地删除,指定inplace方法=T"
   ],
   "metadata": {}
  },
  {
   "cell_type": "code",
   "execution_count": null,
   "source": [
    "#del删除ps1:在原数组上操作\r\n",
    "del ps1[2]\r\n",
    "print(ps1)"
   ],
   "outputs": [],
   "metadata": {}
  },
  {
   "cell_type": "code",
   "execution_count": null,
   "source": [
    "#drop方法:删除后拷贝新数组,不影响原数组\r\n",
    "#删除一个数据\r\n",
    "ps3=ps1.drop(1)\r\n",
    "print(ps3)\r\n",
    "\r\n",
    "#删除多个数据\r\n",
    "ps4=ps1.drop([1,3])\r\n",
    "ps4"
   ],
   "outputs": [],
   "metadata": {}
  },
  {
   "cell_type": "code",
   "execution_count": null,
   "source": [
    "# 删除列\r\n",
    "del pd1[2]\r\n",
    "pd1"
   ],
   "outputs": [],
   "metadata": {}
  },
  {
   "cell_type": "code",
   "execution_count": null,
   "source": [
    "#drop方法\r\n",
    "#删除行\r\n",
    "pd4=pd1.drop('a')\r\n",
    "print(pd4)"
   ],
   "outputs": [],
   "metadata": {}
  },
  {
   "cell_type": "code",
   "execution_count": null,
   "source": [
    "#删除列:\r\n",
    "pd5=pd1.drop(1,axis=1)\r\n",
    "print(pd5)"
   ],
   "outputs": [],
   "metadata": {}
  },
  {
   "cell_type": "code",
   "execution_count": null,
   "source": [
    "#原地删除,inplace方法\r\n",
    "pd1.drop('b',inplace=True)\r\n",
    "pd1"
   ],
   "outputs": [],
   "metadata": {}
  },
  {
   "cell_type": "markdown",
   "source": [
    "# 改"
   ],
   "metadata": {}
  },
  {
   "cell_type": "code",
   "execution_count": null,
   "source": [
    "ps1=pd.Series(np.arange(5),index=[2,3,4,5,6])\r\n",
    "ps1"
   ],
   "outputs": [],
   "metadata": {}
  },
  {
   "cell_type": "code",
   "execution_count": null,
   "source": [
    "#Series\r\n",
    "ps1[2]=999\r\n",
    "ps1"
   ],
   "outputs": [],
   "metadata": {}
  },
  {
   "cell_type": "code",
   "execution_count": null,
   "source": [
    "#DataFrame\r\n",
    "pd1=pd.DataFrame(np.arange(12).reshape(3,4),index=['a','b','c'])\r\n",
    "\r\n",
    "#改列\r\n",
    "pd1[0]=[1,2,3]\r\n",
    "pd1"
   ],
   "outputs": [],
   "metadata": {}
  },
  {
   "cell_type": "code",
   "execution_count": null,
   "source": [
    "#改行:loc标签\r\n",
    "pd1.loc['a']=[9,9,9,9]\r\n",
    "pd1"
   ],
   "outputs": [],
   "metadata": {}
  },
  {
   "cell_type": "markdown",
   "source": [
    "# 查"
   ],
   "metadata": {}
  },
  {
   "cell_type": "code",
   "execution_count": null,
   "source": [
    "#Series\r\n",
    "ps1=pd.Series(np.arange(5),index=['a','b','c','d','e'])\r\n",
    "#位置切片索引\r\n",
    "ps1[1:3]"
   ],
   "outputs": [],
   "metadata": {}
  },
  {
   "cell_type": "code",
   "execution_count": null,
   "source": [
    "#标签切片索引(包括右端点的) :按照索引名切片\r\n",
    "ps1['b':'d']"
   ],
   "outputs": [],
   "metadata": {}
  },
  {
   "cell_type": "code",
   "execution_count": null,
   "source": [
    "#不连续索引(双中括号)\r\n",
    "ps1[['b','e']]"
   ],
   "outputs": [],
   "metadata": {}
  },
  {
   "cell_type": "code",
   "execution_count": null,
   "source": [
    "#布尔索引\r\n",
    "ps1[ps1>2]"
   ],
   "outputs": [],
   "metadata": {}
  },
  {
   "cell_type": "code",
   "execution_count": null,
   "source": [
    "pd1=pd.DataFrame(np.arange(12).reshape(3,4),index=['a','b','c'])\r\n",
    "#不连续多列\r\n",
    "pd1[[0,1]]"
   ],
   "outputs": [],
   "metadata": {}
  },
  {
   "cell_type": "code",
   "execution_count": null,
   "source": [
    "#具体某一个值(先列后行)\r\n",
    "pd1[0]['a']"
   ],
   "outputs": [],
   "metadata": {}
  },
  {
   "cell_type": "code",
   "execution_count": null,
   "source": [
    "#切片(获取行)\r\n",
    "pd1['a':'b']"
   ],
   "outputs": [],
   "metadata": {}
  },
  {
   "cell_type": "markdown",
   "source": [
    "# 高级索引\r\n",
    "## loc 标签索引\r\n",
    "## iloc位置索引\r\n",
    "## ix标签位置混合索引"
   ],
   "metadata": {}
  },
  {
   "cell_type": "markdown",
   "source": [
    "### loc 标签索引:自定义的标签索引名"
   ],
   "metadata": {}
  },
  {
   "cell_type": "code",
   "execution_count": null,
   "source": [
    "ps1=pd.Series(np.arange(5),index=['a','b','c','d','e'])\r\n",
    "ps1.loc['a':'c']  "
   ],
   "outputs": [],
   "metadata": {}
  },
  {
   "cell_type": "code",
   "execution_count": null,
   "source": [
    "ps1.loc[['a','c']]"
   ],
   "outputs": [],
   "metadata": {}
  },
  {
   "cell_type": "code",
   "execution_count": null,
   "source": [
    "pd1=pd.DataFrame(np.arange(12).reshape(3,4),index=['a','b','c'])\r\n",
    "pd1.loc['a':'b',0:1]  #先行后列"
   ],
   "outputs": [],
   "metadata": {}
  },
  {
   "cell_type": "code",
   "execution_count": null,
   "source": [
    "pd1.loc['a',0] #单个元素"
   ],
   "outputs": [],
   "metadata": {}
  },
  {
   "cell_type": "code",
   "execution_count": null,
   "source": [
    "pd1.loc[['a','c'],0]  #单独的两个元素"
   ],
   "outputs": [],
   "metadata": {}
  },
  {
   "cell_type": "markdown",
   "source": [
    "### iloc索引:位置索引"
   ],
   "metadata": {}
  },
  {
   "cell_type": "code",
   "execution_count": null,
   "source": [
    "ps1.iloc[1:3]"
   ],
   "outputs": [],
   "metadata": {}
  },
  {
   "cell_type": "code",
   "execution_count": null,
   "source": [
    "pd1.iloc[1:3,[0,1]]  #同样的先行后列"
   ],
   "outputs": [],
   "metadata": {}
  }
 ],
 "metadata": {
  "orig_nbformat": 4,
  "language_info": {
   "name": "python",
   "version": "3.8.11",
   "mimetype": "text/x-python",
   "codemirror_mode": {
    "name": "ipython",
    "version": 3
   },
   "pygments_lexer": "ipython3",
   "nbconvert_exporter": "python",
   "file_extension": ".py"
  },
  "kernelspec": {
   "name": "python3",
   "display_name": "Python 3.8.11 64-bit ('test': conda)"
  },
  "interpreter": {
   "hash": "5e94ea338a158861897a51a691abce388a6c776ad5d3fd0df5e203920b208892"
  }
 },
 "nbformat": 4,
 "nbformat_minor": 2
}
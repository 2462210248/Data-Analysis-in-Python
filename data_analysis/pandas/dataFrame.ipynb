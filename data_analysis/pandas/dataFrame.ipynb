{
 "cells": [
  {
   "cell_type": "markdown",
   "source": [
    "## Dataframe是类似于表格的二维数组,是由多个共用一个行索引的Series构成"
   ],
   "metadata": {}
  },
  {
   "cell_type": "code",
   "execution_count": null,
   "source": [
    "import numpy as np\r\n",
    "import pandas as pd"
   ],
   "outputs": [],
   "metadata": {}
  },
  {
   "cell_type": "markdown",
   "source": [
    "## DataFrame创建\r\n",
    "## 1.字典类:通过数组/列表/元组/Series构成的字典构造DataFrame\r\n",
    "## 2.列表类:通过二维数组/Series构成的列表构造DataFrame"
   ],
   "metadata": {}
  },
  {
   "cell_type": "markdown",
   "source": [
    "## 字典类:把所有数据看成一个字典,每一列就是字典的一个元素"
   ],
   "metadata": {}
  },
  {
   "cell_type": "code",
   "execution_count": null,
   "source": [
    "#通过数组/列表/元组构成的字典来构造\r\n",
    "data={'a':[1,2,3,4],'b':(1,2,3,4),'c':np.arange(1,5)}\r\n",
    "t=pd.DataFrame(data,index=['A','B','C','D']) #还可以用 columns=[]指定列索引\r\n",
    "t"
   ],
   "outputs": [],
   "metadata": {}
  },
  {
   "cell_type": "code",
   "execution_count": null,
   "source": [
    "#index查看行索引\r\n",
    "print(t.index)\r\n",
    "\r\n",
    "#column查看列索引\r\n",
    "print(t.columns)\r\n",
    "\r\n",
    "#values查看值\r\n",
    "print(t.values)"
   ],
   "outputs": [],
   "metadata": {}
  },
  {
   "cell_type": "code",
   "execution_count": null,
   "source": [
    "#通过Series组成的字典构造\r\n",
    "data1={'a':pd.Series([1,2,3,4]),'b':pd.Series([1,2,3]),'c':pd.Series([1,2])}\r\n",
    "t1=pd.DataFrame(data1)\r\n",
    "t1"
   ],
   "outputs": [],
   "metadata": {}
  },
  {
   "cell_type": "markdown",
   "source": [
    "## 列表类:把DataFrame所有的数据看成一个二维的数组/列表"
   ],
   "metadata": {}
  },
  {
   "cell_type": "code",
   "execution_count": null,
   "source": [
    "#通过二维数组构造:\r\n",
    "data2=np.arange(12).reshape(3,4)\r\n",
    "t2=pd.DataFrame(data2,index=['j','b','h'],columns=['h','y','f','f'])\r\n",
    "t2"
   ],
   "outputs": [],
   "metadata": {}
  },
  {
   "cell_type": "code",
   "execution_count": null,
   "source": [
    "#通过Series构造:Series构成的列表相当于一个二维数组\r\n",
    "data3=[pd.Series(np.arange(3)),pd.Series(np.arange(2)),pd.Series(np.arange(3))]\r\n",
    "t3=pd.DataFrame(data3)\r\n",
    "t3"
   ],
   "outputs": [],
   "metadata": {}
  },
  {
   "cell_type": "markdown",
   "source": [
    "DataFrame 用法"
   ],
   "metadata": {}
  },
  {
   "cell_type": "code",
   "execution_count": null,
   "source": [
    "t4=pd.DataFrame(np.arange(9).reshape(3,3),index=['a','b','c'],columns=['A','B','C'])\r\n",
    "t4"
   ],
   "outputs": [],
   "metadata": {}
  },
  {
   "cell_type": "code",
   "execution_count": null,
   "source": [
    "#转置(不改变原DataFrame)\r\n",
    "t4.T"
   ],
   "outputs": [],
   "metadata": {}
  },
  {
   "cell_type": "code",
   "execution_count": null,
   "source": [
    "#通过列索引获取一列的数据(Series类型)\r\n",
    "print(t4['A'])\r\n",
    "\r\n",
    "#通过列索引添加一列\r\n",
    "t4['D']=np.arange(3)\r\n",
    "t4"
   ],
   "outputs": [],
   "metadata": {}
  },
  {
   "cell_type": "code",
   "execution_count": null,
   "source": [
    "#删除列\r\n",
    "del(t4['D'])\r\n",
    "t4"
   ],
   "outputs": [],
   "metadata": {}
  }
 ],
 "metadata": {
  "orig_nbformat": 4,
  "language_info": {
   "name": "python",
   "version": "3.8.11",
   "mimetype": "text/x-python",
   "codemirror_mode": {
    "name": "ipython",
    "version": 3
   },
   "pygments_lexer": "ipython3",
   "nbconvert_exporter": "python",
   "file_extension": ".py"
  },
  "kernelspec": {
   "name": "python3",
   "display_name": "Python 3.8.11 64-bit ('test': conda)"
  },
  "interpreter": {
   "hash": "5e94ea338a158861897a51a691abce388a6c776ad5d3fd0df5e203920b208892"
  }
 },
 "nbformat": 4,
 "nbformat_minor": 2
}
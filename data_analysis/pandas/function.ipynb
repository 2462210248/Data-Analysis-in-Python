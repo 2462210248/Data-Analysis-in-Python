{
 "cells": [
  {
   "cell_type": "markdown",
   "source": [
    "# 一些函数"
   ],
   "metadata": {}
  },
  {
   "cell_type": "markdown",
   "source": [
    "## apply"
   ],
   "metadata": {}
  },
  {
   "cell_type": "code",
   "execution_count": null,
   "source": [
    "import numpy as np\r\n",
    "import pandas as pd"
   ],
   "outputs": [],
   "metadata": {}
  },
  {
   "cell_type": "code",
   "execution_count": null,
   "source": [
    "df=pd.DataFrame(np.random.randn(5,4)) #正态分布的DF\r\n",
    "np.abs(df)  #由于内部数据类型是np数组,故而Np中的函数均可以使用"
   ],
   "outputs": [],
   "metadata": {}
  },
  {
   "cell_type": "code",
   "execution_count": null,
   "source": [
    "#通过apply将函数应用到列或者行\r\n",
    "df.apply(lambda x:x.max())  #默认输出的是每列(axis=0)的最大值,可以用axis=1输出行最大值"
   ],
   "outputs": [],
   "metadata": {}
  },
  {
   "cell_type": "code",
   "execution_count": null,
   "source": [
    "#通过applymap将函数应用到每个元素\r\n",
    "df.applymap(lambda x:'%d'%x)  #取整"
   ],
   "outputs": [],
   "metadata": {}
  },
  {
   "cell_type": "markdown",
   "source": [
    "# Sort"
   ],
   "metadata": {}
  },
  {
   "cell_type": "code",
   "execution_count": null,
   "source": [
    "s1=pd.Series(np.arange(4),index=list('dcab'))\r\n",
    "s1"
   ],
   "outputs": [],
   "metadata": {}
  },
  {
   "cell_type": "code",
   "execution_count": null,
   "source": [
    "#按索引排序(默认升序)\r\n",
    "s1.sort_index(ascending= False) #降序"
   ],
   "outputs": [],
   "metadata": {}
  },
  {
   "cell_type": "code",
   "execution_count": null,
   "source": [
    "pd1=pd.DataFrame(np.arange(12).reshape(4,3),index=list('dbca'),columns=list('BCA'))\r\n",
    "pd1"
   ],
   "outputs": [],
   "metadata": {}
  },
  {
   "cell_type": "code",
   "execution_count": null,
   "source": [
    "pd1.sort_index() #默认按行"
   ],
   "outputs": [],
   "metadata": {}
  },
  {
   "cell_type": "code",
   "execution_count": null,
   "source": [
    "pd1.sort_index(axis=1)  #按列(水平方向排序就是把一行中每列的数据排序)"
   ],
   "outputs": [],
   "metadata": {}
  },
  {
   "cell_type": "code",
   "execution_count": null,
   "source": [
    "#按值排序\r\n",
    "#当有缺失值默认排在最后\r\n",
    "s1.sort_values()"
   ],
   "outputs": [],
   "metadata": {}
  },
  {
   "cell_type": "code",
   "execution_count": null,
   "source": [
    "pd1.sort_values(by=['A','B']) #按多列进行排序"
   ],
   "outputs": [],
   "metadata": {}
  },
  {
   "cell_type": "markdown",
   "source": [
    "## 唯一值和成员属性"
   ],
   "metadata": {}
  },
  {
   "cell_type": "code",
   "execution_count": null,
   "source": [
    "#unique\r\n",
    "s2=pd.Series([1,1,2,2,3,3])\r\n",
    "s2.unique()"
   ],
   "outputs": [],
   "metadata": {}
  },
  {
   "cell_type": "code",
   "execution_count": null,
   "source": [
    "#类似哈希表的计数,返回一个Series\r\n",
    "s2.value_counts()"
   ],
   "outputs": [],
   "metadata": {}
  },
  {
   "cell_type": "code",
   "execution_count": null,
   "source": [
    "#isin判断是否存在某些元素,返回bool类型的Series\r\n",
    "s2.isin([8,1])"
   ],
   "outputs": [],
   "metadata": {}
  },
  {
   "cell_type": "code",
   "execution_count": null,
   "source": [
    "pd1.isin([2,3])"
   ],
   "outputs": [],
   "metadata": {}
  },
  {
   "cell_type": "markdown",
   "source": [
    "## 处理缺失值"
   ],
   "metadata": {}
  },
  {
   "cell_type": "code",
   "execution_count": null,
   "source": [
    "pd2=pd.DataFrame(np.arange(12).reshape(3,4))\r\n",
    "pd2.iloc[[0,2],[1,3]]=np.nan  #缺失值\r\n",
    "pd2"
   ],
   "outputs": [],
   "metadata": {}
  },
  {
   "cell_type": "code",
   "execution_count": null,
   "source": [
    "#判断缺失值\r\n",
    "pd2.isnull()"
   ],
   "outputs": [],
   "metadata": {}
  },
  {
   "cell_type": "code",
   "execution_count": null,
   "source": [
    "#丢弃缺失值\r\n",
    "pd2.dropna(axis=1) #默认丢弃行,axis=1丢弃列"
   ],
   "outputs": [],
   "metadata": {}
  },
  {
   "cell_type": "code",
   "execution_count": null,
   "source": [
    "#填充缺失值\r\n",
    "pd2.fillna(0)"
   ],
   "outputs": [],
   "metadata": {}
  },
  {
   "cell_type": "markdown",
   "source": [
    "## 层级索引\r\n",
    "## 相当于嵌套的索引,index外层中括号里嵌套两个list"
   ],
   "metadata": {}
  },
  {
   "cell_type": "code",
   "execution_count": null,
   "source": [
    "s3=pd.Series(np.arange(12),index=[list('aaabbbcccddd'),[0,1,2,0,1,2,0,1,2,0,1,2]])\r\n",
    "s3"
   ],
   "outputs": [],
   "metadata": {}
  },
  {
   "cell_type": "code",
   "execution_count": null,
   "source": [
    "s3.index"
   ],
   "outputs": [],
   "metadata": {}
  },
  {
   "cell_type": "code",
   "execution_count": null,
   "source": [
    "#索引选取 \r\n",
    "print(s3['b'])  #外层索引\r\n",
    "print(s3[:,1])  #内层索引\r\n",
    "print(s3['a',0]) #具体某个值"
   ],
   "outputs": [],
   "metadata": {}
  },
  {
   "cell_type": "code",
   "execution_count": null,
   "source": [
    "#索引交换\r\n",
    "s3.swaplevel()"
   ],
   "outputs": [],
   "metadata": {}
  },
  {
   "cell_type": "code",
   "execution_count": null,
   "source": [
    "#sortl默认先对外层索引排序\r\n",
    "s3.sort_index(ascending=False)"
   ],
   "outputs": [],
   "metadata": {}
  },
  {
   "cell_type": "markdown",
   "source": [
    "# Sum"
   ],
   "metadata": {}
  },
  {
   "cell_type": "code",
   "execution_count": null,
   "source": [
    "#默认按列求和,skipna排除缺失值,默认为True\r\n",
    "pd2.sum(axis=1,skipna=False) #按行"
   ],
   "outputs": [],
   "metadata": {}
  },
  {
   "cell_type": "markdown",
   "source": [
    "## Describe:针对Series和DataFrame的样本统计\r\n",
    "## count:数据个数  mean 均值  std 标准差"
   ],
   "metadata": {}
  },
  {
   "cell_type": "code",
   "execution_count": null,
   "source": [
    "pd2.describe()"
   ],
   "outputs": [],
   "metadata": {}
  },
  {
   "cell_type": "code",
   "execution_count": null,
   "source": [
    "s3.describe()"
   ],
   "outputs": [],
   "metadata": {}
  }
 ],
 "metadata": {
  "orig_nbformat": 4,
  "language_info": {
   "name": "python",
   "version": "3.8.11",
   "mimetype": "text/x-python",
   "codemirror_mode": {
    "name": "ipython",
    "version": 3
   },
   "pygments_lexer": "ipython3",
   "nbconvert_exporter": "python",
   "file_extension": ".py"
  },
  "kernelspec": {
   "name": "python3",
   "display_name": "Python 3.8.11 64-bit ('test': conda)"
  },
  "interpreter": {
   "hash": "5e94ea338a158861897a51a691abce388a6c776ad5d3fd0df5e203920b208892"
  }
 },
 "nbformat": 4,
 "nbformat_minor": 2
}